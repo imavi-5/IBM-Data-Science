{
 "cells": [
  {
   "cell_type": "markdown",
   "id": "1fbbc91c-f7b4-44b2-96c3-d9313e0b5930",
   "metadata": {},
   "source": [
    "Data Science tools and Ecosystem"
   ]
  },
  {
   "cell_type": "markdown",
   "id": "4526d4f5-c0d1-4be7-b17d-62a9a703d598",
   "metadata": {
    "tags": []
   },
   "source": [
    "#In this notebook, Data Science Tools and Ecosystem are summarized."
   ]
  },
  {
   "cell_type": "markdown",
   "id": "df05cc6e-e5e3-45da-be55-829591c7d31f",
   "metadata": {
    "tags": []
   },
   "source": [
    "__Objectives__: \n",
    "Python,Pandas,Numpy,ApacheShark "
   ]
  },
  {
   "cell_type": "markdown",
   "id": "0688f2b8-76ea-4d9d-994d-1b0beaf2baa9",
   "metadata": {},
   "source": [
    "Some of the popular languages that Data Scientists use are:                                                               \n",
    "1.Python                                                                                                                 \n",
    "2.R language                                                                                                             \n",
    "3.Java                                                                                                                   \n",
    "4.SQL                                                                                                                    \n"
   ]
  },
  {
   "cell_type": "markdown",
   "id": "d32f7be5-1ba0-4a1d-af41-ce042dba13ec",
   "metadata": {
    "tags": []
   },
   "source": [
    "Some of the commonly used libraries used by Data Scientists include:                                                     \n",
    "    1. Pandas                                                                                                             \n",
    "    2. Numpy                                                                                                             \n",
    "    3. SeaBorn                                                 "
   ]
  },
  {
   "cell_type": "markdown",
   "id": "3ce46699-794e-4ca5-91e2-5075290db778",
   "metadata": {},
   "source": [
    "Data Science Tools:                                                                                                       \n",
    "    1.Python                                                                                                              \n",
    "        2.Tableau                                                                                                             \n",
    "    3.TensorFlow                                                                                                          "
   ]
  },
  {
   "cell_type": "markdown",
   "id": "2eef13e3-276a-475a-8b97-1ad8d2b2af66",
   "metadata": {
    "tags": []
   },
   "source": [
    "Below are a few examples of evaluating arithmetic expressions in Python\n",
    "   1. addition       +          (x+y)            \n",
    "   2. Subtraction    -          (x-Y)       \n",
    "   3.Multipication   *          (x*Y)       \n",
    "   4.Division        /          (x/Y)\n"
   ]
  },
  {
   "cell_type": "code",
   "execution_count": 2,
   "id": "9da26ae0-29c1-4013-8e31-b7b495e082e2",
   "metadata": {
    "tags": []
   },
   "outputs": [
    {
     "data": {
      "text/plain": [
       "17"
      ]
     },
     "execution_count": 2,
     "metadata": {},
     "output_type": "execute_result"
    }
   ],
   "source": [
    "#This a simple arithmetic expression to mutiply then add integers\n",
    "(3*4)+5"
   ]
  },
  {
   "cell_type": "code",
   "execution_count": 3,
   "id": "7d0192a5-9b18-4d86-9652-1d06fd0170e5",
   "metadata": {
    "tags": []
   },
   "outputs": [
    {
     "data": {
      "text/plain": [
       "3.3333333333333335"
      ]
     },
     "execution_count": 3,
     "metadata": {},
     "output_type": "execute_result"
    }
   ],
   "source": [
    "#This will convert 200 minutes to hours by diving by 60\n",
    "200/60"
   ]
  },
  {
   "cell_type": "markdown",
   "id": "9c443e49-1a92-4c2e-a72d-e0501f7df073",
   "metadata": {},
   "source": [
    "**Author**\n",
    "Aditya Singla\n"
   ]
  },
  {
   "cell_type": "code",
   "execution_count": null,
   "id": "d3422591-7798-448b-a3fa-6e45f451a58f",
   "metadata": {},
   "outputs": [],
   "source": []
  }
 ],
 "metadata": {
  "kernelspec": {
   "display_name": "Python",
   "language": "python",
   "name": "conda-env-python-py"
  },
  "language_info": {
   "codemirror_mode": {
    "name": "ipython",
    "version": 3
   },
   "file_extension": ".py",
   "mimetype": "text/x-python",
   "name": "python",
   "nbconvert_exporter": "python",
   "pygments_lexer": "ipython3",
   "version": "3.7.12"
  }
 },
 "nbformat": 4,
 "nbformat_minor": 5
}
