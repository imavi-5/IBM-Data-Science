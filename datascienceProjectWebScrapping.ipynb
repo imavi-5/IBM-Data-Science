{
 "cells": [
  {
   "cell_type": "code",
   "execution_count": 1,
   "id": "fe2c6618-238e-434c-b23a-f1d3a05e67e6",
   "metadata": {},
   "outputs": [
    {
     "name": "stdout",
     "output_type": "stream",
     "text": [
      "Requirement already satisfied: yfinance in d:\\anaconda3\\lib\\site-packages (0.2.4)\n",
      "Requirement already satisfied: cryptography>=3.3.2 in d:\\anaconda3\\lib\\site-packages (from yfinance) (39.0.1)\n",
      "Requirement already satisfied: beautifulsoup4>=4.11.1 in d:\\anaconda3\\lib\\site-packages (from yfinance) (4.11.1)\n",
      "Requirement already satisfied: requests>=2.26 in d:\\anaconda3\\lib\\site-packages (from yfinance) (2.28.1)\n",
      "Requirement already satisfied: pytz>=2022.5 in d:\\anaconda3\\lib\\site-packages (from yfinance) (2022.7)\n",
      "Requirement already satisfied: html5lib>=1.1 in d:\\anaconda3\\lib\\site-packages (from yfinance) (1.1)\n",
      "Requirement already satisfied: lxml>=4.9.1 in d:\\anaconda3\\lib\\site-packages (from yfinance) (4.9.2)\n",
      "Requirement already satisfied: pandas>=1.3.0 in d:\\anaconda3\\lib\\site-packages (from yfinance) (1.5.3)\n",
      "Requirement already satisfied: numpy>=1.16.5 in d:\\anaconda3\\lib\\site-packages (from yfinance) (1.23.5)\n",
      "Requirement already satisfied: frozendict>=2.3.4 in d:\\anaconda3\\lib\\site-packages (from yfinance) (2.3.8)\n",
      "Requirement already satisfied: appdirs>=1.4.4 in d:\\anaconda3\\lib\\site-packages (from yfinance) (1.4.4)\n",
      "Requirement already satisfied: multitasking>=0.0.7 in d:\\anaconda3\\lib\\site-packages (from yfinance) (0.0.11)\n",
      "Requirement already satisfied: soupsieve>1.2 in d:\\anaconda3\\lib\\site-packages (from beautifulsoup4>=4.11.1->yfinance) (2.3.2.post1)\n",
      "Requirement already satisfied: cffi>=1.12 in d:\\anaconda3\\lib\\site-packages (from cryptography>=3.3.2->yfinance) (1.15.1)\n",
      "Requirement already satisfied: webencodings in d:\\anaconda3\\lib\\site-packages (from html5lib>=1.1->yfinance) (0.5.1)\n",
      "Requirement already satisfied: six>=1.9 in d:\\anaconda3\\lib\\site-packages (from html5lib>=1.1->yfinance) (1.16.0)\n",
      "Requirement already satisfied: python-dateutil>=2.8.1 in d:\\anaconda3\\lib\\site-packages (from pandas>=1.3.0->yfinance) (2.8.2)\n",
      "Requirement already satisfied: urllib3<1.27,>=1.21.1 in d:\\anaconda3\\lib\\site-packages (from requests>=2.26->yfinance) (1.26.14)\n",
      "Requirement already satisfied: idna<4,>=2.5 in d:\\anaconda3\\lib\\site-packages (from requests>=2.26->yfinance) (3.4)\n",
      "Requirement already satisfied: charset-normalizer<3,>=2 in d:\\anaconda3\\lib\\site-packages (from requests>=2.26->yfinance) (2.0.4)\n",
      "Requirement already satisfied: certifi>=2017.4.17 in d:\\anaconda3\\lib\\site-packages (from requests>=2.26->yfinance) (2022.12.7)\n",
      "Requirement already satisfied: pycparser in d:\\anaconda3\\lib\\site-packages (from cffi>=1.12->cryptography>=3.3.2->yfinance) (2.21)\n",
      "Collecting bs4\n",
      "  Downloading bs4-0.0.1.tar.gz (1.1 kB)\n",
      "  Preparing metadata (setup.py): started\n",
      "  Preparing metadata (setup.py): finished with status 'done'\n",
      "Requirement already satisfied: beautifulsoup4 in d:\\anaconda3\\lib\\site-packages (from bs4) (4.11.1)\n",
      "Requirement already satisfied: soupsieve>1.2 in d:\\anaconda3\\lib\\site-packages (from beautifulsoup4->bs4) (2.3.2.post1)\n",
      "Building wheels for collected packages: bs4\n",
      "  Building wheel for bs4 (setup.py): started\n",
      "  Building wheel for bs4 (setup.py): finished with status 'done'\n",
      "  Created wheel for bs4: filename=bs4-0.0.1-py3-none-any.whl size=1264 sha256=f7b05a9e115bd3f87c47af1d867f80c0a29f00ffcefadfd7ff62f69eb8265d3f\n",
      "  Stored in directory: c:\\users\\aditya singla\\appdata\\local\\pip\\cache\\wheels\\e4\\62\\1d\\d4d1bc4f33350ff84227f89b258edb552d604138e3739f5c83\n",
      "Successfully built bs4\n",
      "Installing collected packages: bs4\n",
      "Successfully installed bs4-0.0.1\n"
     ]
    }
   ],
   "source": [
    "!pip install yfinance\n",
    "#!pip install pandas\n",
    "#!pip install requests\n",
    "!pip install bs4\n",
    "#!pip install plotly"
   ]
  },
  {
   "cell_type": "code",
   "execution_count": 2,
   "id": "cbee5a3b-42a7-4b74-85be-e71e07361445",
   "metadata": {},
   "outputs": [],
   "source": [
    "import pandas as pd"
   ]
  },
  {
   "cell_type": "code",
   "execution_count": 3,
   "id": "81734638-65e4-48b3-b7c3-815fc5a2783a",
   "metadata": {},
   "outputs": [],
   "source": [
    "import yfinance as yf"
   ]
  },
  {
   "cell_type": "code",
   "execution_count": 4,
   "id": "02627d7c-7a33-446a-91ab-88af009e3a15",
   "metadata": {},
   "outputs": [],
   "source": [
    "import requests"
   ]
  },
  {
   "cell_type": "code",
   "execution_count": 5,
   "id": "39ce0f2c-6623-475a-ac93-28ca342a3eba",
   "metadata": {},
   "outputs": [],
   "source": [
    "from bs4 import BeautifulSoup"
   ]
  },
  {
   "cell_type": "code",
   "execution_count": 6,
   "id": "f6016fe9-0aec-410f-bcbb-bac9276e33b8",
   "metadata": {},
   "outputs": [],
   "source": [
    "import plotly.graph_objects as go"
   ]
  },
  {
   "cell_type": "code",
   "execution_count": 7,
   "id": "465d258d-f63c-4ff0-97a2-af995fddb75b",
   "metadata": {},
   "outputs": [],
   "source": [
    "from plotly.subplots import make_subplots"
   ]
  },
  {
   "cell_type": "markdown",
   "id": "d08d3e64-ba8a-4c7e-95a9-0a4de4ce86f5",
   "metadata": {},
   "source": [
    "Question 1 - Extracting Tesla Stock Data Using yfinance - 2 Points"
   ]
  },
  {
   "cell_type": "code",
   "execution_count": 8,
   "id": "fab0e516-aaf7-4e4a-8afc-d356e71d2da1",
   "metadata": {},
   "outputs": [],
   "source": [
    "tesla = yf.Ticker(\"TSLA\")"
   ]
  },
  {
   "cell_type": "code",
   "execution_count": 9,
   "id": "af46ab81-a09f-44e6-906d-c00c64e6911e",
   "metadata": {},
   "outputs": [],
   "source": [
    "tesla_data = tesla.history(period=\"max\")"
   ]
  },
  {
   "cell_type": "code",
   "execution_count": 10,
   "id": "c654c739-7ce0-417a-af01-adf2576a4c04",
   "metadata": {},
   "outputs": [],
   "source": [
    "tesla_data.reset_index(inplace = True)"
   ]
  },
  {
   "cell_type": "code",
   "execution_count": 12,
   "id": "1b64a159-7c0a-43f3-8cae-12ecc166346a",
   "metadata": {},
   "outputs": [
    {
     "data": {
      "text/html": [
       "<div>\n",
       "<style scoped>\n",
       "    .dataframe tbody tr th:only-of-type {\n",
       "        vertical-align: middle;\n",
       "    }\n",
       "\n",
       "    .dataframe tbody tr th {\n",
       "        vertical-align: top;\n",
       "    }\n",
       "\n",
       "    .dataframe thead th {\n",
       "        text-align: right;\n",
       "    }\n",
       "</style>\n",
       "<table border=\"1\" class=\"dataframe\">\n",
       "  <thead>\n",
       "    <tr style=\"text-align: right;\">\n",
       "      <th></th>\n",
       "      <th>Date</th>\n",
       "      <th>Open</th>\n",
       "      <th>High</th>\n",
       "      <th>Low</th>\n",
       "      <th>Close</th>\n",
       "      <th>Volume</th>\n",
       "      <th>Dividends</th>\n",
       "      <th>Stock Splits</th>\n",
       "    </tr>\n",
       "  </thead>\n",
       "  <tbody>\n",
       "    <tr>\n",
       "      <th>0</th>\n",
       "      <td>2010-06-29 00:00:00-04:00</td>\n",
       "      <td>1.266667</td>\n",
       "      <td>1.666667</td>\n",
       "      <td>1.169333</td>\n",
       "      <td>1.592667</td>\n",
       "      <td>281494500</td>\n",
       "      <td>0.0</td>\n",
       "      <td>0.0</td>\n",
       "    </tr>\n",
       "    <tr>\n",
       "      <th>1</th>\n",
       "      <td>2010-06-30 00:00:00-04:00</td>\n",
       "      <td>1.719333</td>\n",
       "      <td>2.028000</td>\n",
       "      <td>1.553333</td>\n",
       "      <td>1.588667</td>\n",
       "      <td>257806500</td>\n",
       "      <td>0.0</td>\n",
       "      <td>0.0</td>\n",
       "    </tr>\n",
       "    <tr>\n",
       "      <th>2</th>\n",
       "      <td>2010-07-01 00:00:00-04:00</td>\n",
       "      <td>1.666667</td>\n",
       "      <td>1.728000</td>\n",
       "      <td>1.351333</td>\n",
       "      <td>1.464000</td>\n",
       "      <td>123282000</td>\n",
       "      <td>0.0</td>\n",
       "      <td>0.0</td>\n",
       "    </tr>\n",
       "    <tr>\n",
       "      <th>3</th>\n",
       "      <td>2010-07-02 00:00:00-04:00</td>\n",
       "      <td>1.533333</td>\n",
       "      <td>1.540000</td>\n",
       "      <td>1.247333</td>\n",
       "      <td>1.280000</td>\n",
       "      <td>77097000</td>\n",
       "      <td>0.0</td>\n",
       "      <td>0.0</td>\n",
       "    </tr>\n",
       "    <tr>\n",
       "      <th>4</th>\n",
       "      <td>2010-07-06 00:00:00-04:00</td>\n",
       "      <td>1.333333</td>\n",
       "      <td>1.333333</td>\n",
       "      <td>1.055333</td>\n",
       "      <td>1.074000</td>\n",
       "      <td>103003500</td>\n",
       "      <td>0.0</td>\n",
       "      <td>0.0</td>\n",
       "    </tr>\n",
       "    <tr>\n",
       "      <th>5</th>\n",
       "      <td>2010-07-07 00:00:00-04:00</td>\n",
       "      <td>1.093333</td>\n",
       "      <td>1.108667</td>\n",
       "      <td>0.998667</td>\n",
       "      <td>1.053333</td>\n",
       "      <td>103825500</td>\n",
       "      <td>0.0</td>\n",
       "      <td>0.0</td>\n",
       "    </tr>\n",
       "  </tbody>\n",
       "</table>\n",
       "</div>"
      ],
      "text/plain": [
       "                       Date      Open      High       Low     Close  \\\n",
       "0 2010-06-29 00:00:00-04:00  1.266667  1.666667  1.169333  1.592667   \n",
       "1 2010-06-30 00:00:00-04:00  1.719333  2.028000  1.553333  1.588667   \n",
       "2 2010-07-01 00:00:00-04:00  1.666667  1.728000  1.351333  1.464000   \n",
       "3 2010-07-02 00:00:00-04:00  1.533333  1.540000  1.247333  1.280000   \n",
       "4 2010-07-06 00:00:00-04:00  1.333333  1.333333  1.055333  1.074000   \n",
       "5 2010-07-07 00:00:00-04:00  1.093333  1.108667  0.998667  1.053333   \n",
       "\n",
       "      Volume  Dividends  Stock Splits  \n",
       "0  281494500        0.0           0.0  \n",
       "1  257806500        0.0           0.0  \n",
       "2  123282000        0.0           0.0  \n",
       "3   77097000        0.0           0.0  \n",
       "4  103003500        0.0           0.0  \n",
       "5  103825500        0.0           0.0  "
      ]
     },
     "execution_count": 12,
     "metadata": {},
     "output_type": "execute_result"
    }
   ],
   "source": [
    "tesla_data.head(6)"
   ]
  },
  {
   "cell_type": "markdown",
   "id": "53cde498-878c-4153-b395-ac0ca370cce9",
   "metadata": {},
   "source": [
    "Question 2 - Extracting Tesla Revenue Data Using Webscraping - 1 Points"
   ]
  },
  {
   "cell_type": "code",
   "execution_count": 13,
   "id": "8344ce8d-2caf-43eb-9a0e-0e0f1cc954fa",
   "metadata": {},
   "outputs": [],
   "source": [
    "url=\"https://www.macrotrends.net/stocks/charts/TSLA/tesla/revenue\""
   ]
  },
  {
   "cell_type": "code",
   "execution_count": 14,
   "id": "a005e629-8d8d-40b6-8afd-a5c198c99bc9",
   "metadata": {},
   "outputs": [],
   "source": [
    "html_data_tesla = requests.get(url).text"
   ]
  },
  {
   "cell_type": "code",
   "execution_count": 15,
   "id": "b5c893c0-1990-4dfc-8c92-da7bf1d1ff1d",
   "metadata": {},
   "outputs": [],
   "source": [
    "soup = BeautifulSoup(html_data_tesla,\"html5lib\")"
   ]
  },
  {
   "cell_type": "code",
   "execution_count": 18,
   "id": "7f1d8f1e-8fd6-42dc-b929-c3fc018f0605",
   "metadata": {},
   "outputs": [],
   "source": [
    "tesla_revenue= pd.read_html(url, match=\"Tesla Quarterly Revenue\", flavor='bs4')[0]"
   ]
  },
  {
   "cell_type": "code",
   "execution_count": 19,
   "id": "63a3d282-3078-4d9f-9f4e-4bfdf119e1d1",
   "metadata": {},
   "outputs": [
    {
     "name": "stdout",
     "output_type": "stream",
     "text": [
      "  Tesla Quarterly Revenue (Millions of US $)  \\\n",
      "0                                 2023-03-31   \n",
      "1                                 2022-12-31   \n",
      "2                                 2022-09-30   \n",
      "3                                 2022-06-30   \n",
      "4                                 2022-03-31   \n",
      "\n",
      "  Tesla Quarterly Revenue (Millions of US $).1  \n",
      "0                                      $23,329  \n",
      "1                                      $24,318  \n",
      "2                                      $21,454  \n",
      "3                                      $16,934  \n",
      "4                                      $18,756  \n"
     ]
    }
   ],
   "source": [
    "print(tesla_revenue.head())"
   ]
  },
  {
   "cell_type": "code",
   "execution_count": 23,
   "id": "3b059a86-2814-442d-8093-0eb732f24c9c",
   "metadata": {},
   "outputs": [],
   "source": [
    "tesla_revenue = tesla_revenue.rename( columns = {'Tesla Quarterly Revenue (Millions of US $)' : 'YYYYMMDD' ,'Tesla Quarterly Revenue (Millions of US $).1':'Revenue of Quaterly'})"
   ]
  },
  {
   "cell_type": "code",
   "execution_count": 24,
   "id": "4ac02f50-5ad6-4ac2-abcc-451aa47c6695",
   "metadata": {},
   "outputs": [
    {
     "name": "stdout",
     "output_type": "stream",
     "text": [
      "     YYYYMMDD Revenue of Quaterly\n",
      "0  2023-03-31             $23,329\n",
      "1  2022-12-31             $24,318\n",
      "2  2022-09-30             $21,454\n",
      "3  2022-06-30             $16,934\n",
      "4  2022-03-31             $18,756\n",
      "5  2021-12-31             $17,719\n"
     ]
    }
   ],
   "source": [
    "print(tesla_revenue.head(6))"
   ]
  },
  {
   "cell_type": "code",
   "execution_count": 25,
   "id": "3659b686-c11f-4640-9cf7-57e892f103c1",
   "metadata": {},
   "outputs": [
    {
     "name": "stdout",
     "output_type": "stream",
     "text": [
      "      YYYYMMDD Revenue of Quaterly\n",
      "0   2023-03-31             $23,329\n",
      "1   2022-12-31             $24,318\n",
      "2   2022-09-30             $21,454\n",
      "3   2022-06-30             $16,934\n",
      "4   2022-03-31             $18,756\n",
      "5   2021-12-31             $17,719\n",
      "6   2021-09-30             $13,757\n",
      "7   2021-06-30             $11,958\n",
      "8   2021-03-31             $10,389\n",
      "9   2020-12-31             $10,744\n",
      "10  2020-09-30              $8,771\n",
      "11  2020-06-30              $6,036\n",
      "12  2020-03-31              $5,985\n",
      "13  2019-12-31              $7,384\n",
      "14  2019-09-30              $6,303\n",
      "15  2019-06-30              $6,350\n",
      "16  2019-03-31              $4,541\n",
      "17  2018-12-31              $7,226\n",
      "18  2018-09-30              $6,824\n",
      "19  2018-06-30              $4,002\n",
      "20  2018-03-31              $3,409\n",
      "21  2017-12-31              $3,288\n",
      "22  2017-09-30              $2,985\n",
      "23  2017-06-30              $2,790\n",
      "24  2017-03-31              $2,696\n",
      "25  2016-12-31              $2,285\n",
      "26  2016-09-30              $2,298\n",
      "27  2016-06-30              $1,270\n",
      "28  2016-03-31              $1,147\n",
      "29  2015-12-31              $1,214\n",
      "30  2015-09-30                $937\n",
      "31  2015-06-30                $955\n",
      "32  2015-03-31                $940\n",
      "33  2014-12-31                $957\n",
      "34  2014-09-30                $852\n",
      "35  2014-06-30                $769\n",
      "36  2014-03-31                $621\n",
      "37  2013-12-31                $615\n",
      "38  2013-09-30                $431\n",
      "39  2013-06-30                $405\n",
      "40  2013-03-31                $562\n",
      "41  2012-12-31                $306\n",
      "42  2012-09-30                 $50\n",
      "43  2012-06-30                 $27\n",
      "44  2012-03-31                 $30\n",
      "45  2011-12-31                 $39\n",
      "46  2011-09-30                 $58\n",
      "47  2011-06-30                 $58\n",
      "48  2011-03-31                 $49\n",
      "49  2010-12-31                 $36\n",
      "50  2010-09-30                 $31\n",
      "51  2010-06-30                 $28\n",
      "52  2010-03-31                 $21\n",
      "53  2009-12-31                 NaN\n",
      "54  2009-09-30                 $46\n",
      "55  2009-06-30                 $27\n"
     ]
    }
   ],
   "source": [
    "print(tesla_revenue)"
   ]
  },
  {
   "cell_type": "markdown",
   "id": "b50c93b6-e96f-4fe1-bcfd-ce086e1471ae",
   "metadata": {},
   "source": [
    "Question 3 - Extracting GameStop Stock Data Using yfinance - 2 Points"
   ]
  },
  {
   "cell_type": "code",
   "execution_count": 27,
   "id": "1c568c7f-3fa1-476f-8cda-0dc656292c56",
   "metadata": {},
   "outputs": [],
   "source": [
    "gamestop = yf.Ticker(\"GME\")"
   ]
  },
  {
   "cell_type": "code",
   "execution_count": 28,
   "id": "20e9d71d-6d4b-42e4-864c-9951bebbfc54",
   "metadata": {},
   "outputs": [],
   "source": [
    "gamestop_data = gamestop.history(period=\"max\")"
   ]
  },
  {
   "cell_type": "code",
   "execution_count": 29,
   "id": "9d4bed95-4b27-423c-b137-d5c2fbaabf4c",
   "metadata": {},
   "outputs": [],
   "source": [
    "gamestop_data.reset_index(inplace = True)"
   ]
  },
  {
   "cell_type": "code",
   "execution_count": 30,
   "id": "16ad0672-332d-48f9-a4fb-d326a3d96895",
   "metadata": {},
   "outputs": [
    {
     "name": "stdout",
     "output_type": "stream",
     "text": [
      "                          Date       Open       High        Low      Close  \\\n",
      "0    2002-02-13 00:00:00-05:00   1.620129   1.693350   1.603296   1.691667   \n",
      "1    2002-02-14 00:00:00-05:00   1.712707   1.716074   1.670626   1.683250   \n",
      "2    2002-02-15 00:00:00-05:00   1.683251   1.687459   1.658002   1.674834   \n",
      "3    2002-02-19 00:00:00-05:00   1.666418   1.666418   1.578047   1.607504   \n",
      "4    2002-02-20 00:00:00-05:00   1.615921   1.662210   1.603296   1.662210   \n",
      "...                        ...        ...        ...        ...        ...   \n",
      "5368 2023-06-12 00:00:00-04:00  22.850000  24.299999  22.740000  24.299999   \n",
      "5369 2023-06-13 00:00:00-04:00  26.200001  27.650000  25.030001  26.950001   \n",
      "5370 2023-06-14 00:00:00-04:00  26.719999  27.080000  24.900000  25.700001   \n",
      "5371 2023-06-15 00:00:00-04:00  25.410000  26.170000  24.639999  24.840000   \n",
      "5372 2023-06-16 00:00:00-04:00  25.020000  25.110001  24.420000  24.559999   \n",
      "\n",
      "        Volume  Dividends  Stock Splits  \n",
      "0     76216000        0.0           0.0  \n",
      "1     11021600        0.0           0.0  \n",
      "2      8389600        0.0           0.0  \n",
      "3      7410400        0.0           0.0  \n",
      "4      6892800        0.0           0.0  \n",
      "...        ...        ...           ...  \n",
      "5368   7131400        0.0           0.0  \n",
      "5369  17160600        0.0           0.0  \n",
      "5370   7243700        0.0           0.0  \n",
      "5371   5501800        0.0           0.0  \n",
      "5372   4427000        0.0           0.0  \n",
      "\n",
      "[5373 rows x 8 columns]\n"
     ]
    }
   ],
   "source": [
    "print(gamestop_data)"
   ]
  },
  {
   "cell_type": "code",
   "execution_count": 31,
   "id": "596484c9-eb91-461f-a9e2-c22e0eaf4dd5",
   "metadata": {},
   "outputs": [
    {
     "name": "stdout",
     "output_type": "stream",
     "text": [
      "                       Date      Open      High       Low     Close    Volume  \\\n",
      "0 2002-02-13 00:00:00-05:00  1.620129  1.693350  1.603296  1.691667  76216000   \n",
      "1 2002-02-14 00:00:00-05:00  1.712707  1.716074  1.670626  1.683250  11021600   \n",
      "2 2002-02-15 00:00:00-05:00  1.683251  1.687459  1.658002  1.674834   8389600   \n",
      "3 2002-02-19 00:00:00-05:00  1.666418  1.666418  1.578047  1.607504   7410400   \n",
      "4 2002-02-20 00:00:00-05:00  1.615921  1.662210  1.603296  1.662210   6892800   \n",
      "5 2002-02-21 00:00:00-05:00  1.656318  1.670626  1.641169  1.658002   6976800   \n",
      "\n",
      "   Dividends  Stock Splits  \n",
      "0        0.0           0.0  \n",
      "1        0.0           0.0  \n",
      "2        0.0           0.0  \n",
      "3        0.0           0.0  \n",
      "4        0.0           0.0  \n",
      "5        0.0           0.0  \n"
     ]
    }
   ],
   "source": [
    "print(gamestop_data.head(6))"
   ]
  },
  {
   "cell_type": "markdown",
   "id": "b78bebd6-288b-4f33-8e61-17cb2702203a",
   "metadata": {},
   "source": [
    "Question 4 - Extracting GameStop Revenue Data Using Webscraping - 1 Points"
   ]
  },
  {
   "cell_type": "code",
   "execution_count": 32,
   "id": "e4049b1c-4993-492a-9b66-e493e2d79c6b",
   "metadata": {},
   "outputs": [],
   "source": [
    "url=\"https://www.macrotrends.net/stocks/charts/GME/gamestop/revenue\""
   ]
  },
  {
   "cell_type": "code",
   "execution_count": 33,
   "id": "14430060-715c-4e12-ba86-da1a81c6ec48",
   "metadata": {},
   "outputs": [],
   "source": [
    "html_data = requests.get(url).text"
   ]
  },
  {
   "cell_type": "code",
   "execution_count": 37,
   "id": "becd8a7c-b82f-4eac-af40-94c0101cee3a",
   "metadata": {},
   "outputs": [],
   "source": [
    "soup = BeautifulSoup(html_data,\"html5lib\")"
   ]
  },
  {
   "cell_type": "code",
   "execution_count": 39,
   "id": "b0460a50-2d93-4d52-999b-a29113cc1de7",
   "metadata": {},
   "outputs": [],
   "source": [
    "gme_revenue= pd.read_html(url, match=\"GameStop Quarterly Revenue\", flavor='bs4')[0]"
   ]
  },
  {
   "cell_type": "code",
   "execution_count": 41,
   "id": "b250f1cc-b2d2-4b08-8c06-68d8648e8b5f",
   "metadata": {},
   "outputs": [
    {
     "name": "stdout",
     "output_type": "stream",
     "text": [
      "  GameStop Quarterly Revenue (Millions of US $)  \\\n",
      "0                                    2023-04-30   \n",
      "1                                    2023-01-31   \n",
      "2                                    2022-10-31   \n",
      "3                                    2022-07-31   \n",
      "4                                    2022-04-30   \n",
      "\n",
      "  GameStop Quarterly Revenue (Millions of US $).1  \n",
      "0                                          $1,237  \n",
      "1                                          $2,226  \n",
      "2                                          $1,186  \n",
      "3                                          $1,136  \n",
      "4                                          $1,378  \n"
     ]
    }
   ],
   "source": [
    "print(gme_revenue.head())"
   ]
  },
  {
   "cell_type": "code",
   "execution_count": 50,
   "id": "2719e5fe-52ed-4f7f-a720-a1d835619f9e",
   "metadata": {},
   "outputs": [],
   "source": [
    "gme_revenue = gme_revenue.rename(columns = {'GameStop Quarterly Revenue (Millions of US $)':'Date:yyyy mm dd', 'GameStop Quarterly Revenue (Millions of US $)' :'revenue of gamestop'})"
   ]
  },
  {
   "cell_type": "code",
   "execution_count": 51,
   "id": "c4321759-621b-40ea-a161-f7b34d00bb83",
   "metadata": {},
   "outputs": [
    {
     "name": "stdout",
     "output_type": "stream",
     "text": [
      "   revenue of gamestop GameStop Quarterly Revenue (Millions of US $).1\n",
      "0           2023-04-30                                          $1,237\n",
      "1           2023-01-31                                          $2,226\n",
      "2           2022-10-31                                          $1,186\n",
      "3           2022-07-31                                          $1,136\n",
      "4           2022-04-30                                          $1,378\n",
      "5           2022-01-31                                          $2,254\n",
      "6           2021-10-31                                          $1,297\n",
      "7           2021-07-31                                          $1,183\n",
      "8           2021-04-30                                          $1,277\n",
      "9           2021-01-31                                          $2,122\n",
      "10          2020-10-31                                          $1,005\n",
      "11          2020-07-31                                            $942\n",
      "12          2020-04-30                                          $1,021\n",
      "13          2020-01-31                                          $2,194\n",
      "14          2019-10-31                                          $1,439\n",
      "15          2019-07-31                                          $1,286\n",
      "16          2019-04-30                                          $1,548\n",
      "17          2019-01-31                                          $3,063\n",
      "18          2018-10-31                                          $1,935\n",
      "19          2018-07-31                                          $1,501\n",
      "20          2018-04-30                                          $1,786\n",
      "21          2018-01-31                                          $2,825\n",
      "22          2017-10-31                                          $1,989\n",
      "23          2017-07-31                                          $1,688\n",
      "24          2017-04-30                                          $2,046\n",
      "25          2017-01-31                                          $2,403\n",
      "26          2016-10-31                                          $1,959\n",
      "27          2016-07-31                                          $1,632\n",
      "28          2016-04-30                                          $1,972\n",
      "29          2016-01-31                                          $3,525\n",
      "30          2015-10-31                                          $2,016\n",
      "31          2015-07-31                                          $1,762\n",
      "32          2015-04-30                                          $2,061\n",
      "33          2015-01-31                                          $3,476\n",
      "34          2014-10-31                                          $2,092\n",
      "35          2014-07-31                                          $1,731\n",
      "36          2014-04-30                                          $1,996\n",
      "37          2014-01-31                                          $3,684\n",
      "38          2013-10-31                                          $2,107\n",
      "39          2013-07-31                                          $1,384\n",
      "40          2013-04-30                                          $1,865\n",
      "41          2013-01-31                                          $3,562\n",
      "42          2012-10-31                                          $1,773\n",
      "43          2012-07-31                                          $1,550\n",
      "44          2012-04-30                                          $2,002\n",
      "45          2012-01-31                                          $3,579\n",
      "46          2011-10-31                                          $1,947\n",
      "47          2011-07-31                                          $1,744\n",
      "48          2011-04-30                                          $2,281\n",
      "49          2011-01-31                                          $3,693\n",
      "50          2010-10-31                                          $1,899\n",
      "51          2010-07-31                                          $1,799\n",
      "52          2010-04-30                                          $2,083\n",
      "53          2010-01-31                                          $3,524\n",
      "54          2009-10-31                                          $1,835\n",
      "55          2009-07-31                                          $1,739\n",
      "56          2009-04-30                                          $1,981\n",
      "57          2009-01-31                                          $3,492\n"
     ]
    }
   ],
   "source": [
    "print(gme_revenue)"
   ]
  },
  {
   "cell_type": "markdown",
   "id": "7ce7b7e8-8f46-4049-99e1-b83223ec9447",
   "metadata": {},
   "source": [
    "Defining fuction to make the dashboard"
   ]
  },
  {
   "cell_type": "code",
   "execution_count": 84,
   "id": "5ffa2326-4bc3-42bd-8d45-af77ec2268d5",
   "metadata": {},
   "outputs": [],
   "source": [
    "def make_graph(stock_data, revenue_data, stock):\n",
    "    fig = make_subplots(rows=2, cols=1, shared_xaxes=True, subplot_titles=(\"Historical Share Price\", \"Historical Revenue\"), vertical_spacing = .3)\n",
    "    fig.add_trace(go.Scatter(x=pd.to_datetime(stock_data.Date, infer_datetime_format=True), y=stock_data.Close.astype(\"float\"), name=\"Share Price\"), row=1, col=1)\n",
    "    fig.add_trace(go.Scatter(x=pd.to_datetime(revenue_data.Date, infer_datetime_format=True), y=revenue_data.Revenue.astype(\"float\"), name=\"Revenue\"), row=2, col=1)\n",
    "    fig.update_xaxes(title_text=\"Date\", row=1, col=1)\n",
    "    fig.update_xaxes(title_text=\"Date\", row=2, col=1)\n",
    "    fig.update_yaxes(title_text=\"Price ($US)\", row=1, col=1)\n",
    "    fig.update_yaxes(title_text=\"Revenue ($US Millions)\", row=2, col=1)\n",
    "    fig.update_layout(showlegend=False,\n",
    "    height=900,\n",
    "    title=stock,\n",
    "    xaxis_rangeslider_visible=True)\n",
    "    fig.show()\n"
   ]
  },
  {
   "cell_type": "markdown",
   "id": "627ddd69-715d-4e4b-adaa-27c658e42d97",
   "metadata": {},
   "source": [
    "Question 5 - Tesla Stock and Revenue Dashboard - 2 Points\n"
   ]
  },
  {
   "cell_type": "markdown",
   "id": "70553310-fd1c-41bf-953d-4cbe3f613066",
   "metadata": {},
   "source": [
    "\n",
    "make_graph(tesla_data, tesla_revenue, 'Tesla')"
   ]
  },
  {
   "cell_type": "code",
   "execution_count": null,
   "id": "0e79551d-4eae-47cf-ad20-385fbae41db7",
   "metadata": {},
   "outputs": [],
   "source": []
  }
 ],
 "metadata": {
  "kernelspec": {
   "display_name": "Python 3 (ipykernel)",
   "language": "python",
   "name": "python3"
  },
  "language_info": {
   "codemirror_mode": {
    "name": "ipython",
    "version": 3
   },
   "file_extension": ".py",
   "mimetype": "text/x-python",
   "name": "python",
   "nbconvert_exporter": "python",
   "pygments_lexer": "ipython3",
   "version": "3.10.9"
  }
 },
 "nbformat": 4,
 "nbformat_minor": 5
}
